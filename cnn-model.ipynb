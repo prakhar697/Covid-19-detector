{
 "cells": [
  {
   "cell_type": "code",
   "execution_count": 1,
   "metadata": {},
   "outputs": [],
   "source": [
    "import tensorflow as tf"
   ]
  },
  {
   "cell_type": "code",
   "execution_count": 2,
   "metadata": {},
   "outputs": [],
   "source": [
    "from tensorflow.keras.models import Sequential\n",
    "from tensorflow.keras.layers import Dense,Dropout,Activation,Flatten,Conv2D,MaxPooling2D\n",
    "import pickle"
   ]
  },
  {
   "cell_type": "code",
   "execution_count": 3,
   "metadata": {},
   "outputs": [],
   "source": [
    "x = pickle.load(open('x.pickle','rb'))\n",
    "y = pickle.load(open('y.pickle','rb'))"
   ]
  },
  {
   "cell_type": "code",
   "execution_count": 4,
   "metadata": {},
   "outputs": [],
   "source": [
    "x = x/255.0"
   ]
  },
  {
   "cell_type": "code",
   "execution_count": 5,
   "metadata": {},
   "outputs": [],
   "source": [
    "model = Sequential()\n",
    "\n",
    "model.add(Conv2D(64,(3,3), input_shape = x.shape[1:]))\n",
    "model.add(Activation(\"relu\"))\n",
    "model.add(MaxPooling2D(pool_size = (2,2)))\n",
    "\n",
    "model.add(Conv2D(64,(3,3)))\n",
    "model.add(Activation(\"relu\"))\n",
    "model.add(MaxPooling2D(pool_size = (2,2)))\n",
    "\n",
    "model.add(Conv2D(64,(3,3)))\n",
    "model.add(Activation(\"relu\"))\n",
    "model.add(MaxPooling2D(pool_size = (2,2)))\n",
    "\n",
    "model.add(Flatten())\n",
    "model.add(Dense(64))\n",
    "\n",
    "model.add(Dense(1))\n",
    "model.add(Activation('sigmoid'))\n",
    "\n",
    "model.compile(loss = 'binary_crossentropy',\n",
    "             optimizer = 'adam',\n",
    "             metrics = ['accuracy'])"
   ]
  },
  {
   "cell_type": "code",
   "execution_count": 6,
   "metadata": {},
   "outputs": [
    {
     "name": "stdout",
     "output_type": "stream",
     "text": [
      "Train on 169 samples, validate on 19 samples\n",
      "Epoch 1/30\n",
      "169/169 [==============================] - 10s 59ms/sample - loss: 1.1051 - accuracy: 0.5385 - val_loss: 0.6216 - val_accuracy: 0.7895\n",
      "Epoch 2/30\n",
      "169/169 [==============================] - 2s 10ms/sample - loss: 0.5774 - accuracy: 0.7456 - val_loss: 0.4840 - val_accuracy: 0.6842\n",
      "Epoch 3/30\n",
      "169/169 [==============================] - 2s 10ms/sample - loss: 0.5121 - accuracy: 0.7337 - val_loss: 0.2737 - val_accuracy: 0.8947\n",
      "Epoch 4/30\n",
      "169/169 [==============================] - 2s 10ms/sample - loss: 0.2411 - accuracy: 0.8994 - val_loss: 0.3858 - val_accuracy: 0.9474\n",
      "Epoch 5/30\n",
      "169/169 [==============================] - 2s 10ms/sample - loss: 0.1592 - accuracy: 0.9172 - val_loss: 0.6398 - val_accuracy: 0.8947\n",
      "Epoch 6/30\n",
      "169/169 [==============================] - 2s 10ms/sample - loss: 0.1454 - accuracy: 0.9467 - val_loss: 0.2021 - val_accuracy: 0.9474\n",
      "Epoch 7/30\n",
      "169/169 [==============================] - 2s 10ms/sample - loss: 0.0878 - accuracy: 0.9586 - val_loss: 0.4315 - val_accuracy: 0.8421\n",
      "Epoch 8/30\n",
      "169/169 [==============================] - 2s 10ms/sample - loss: 0.0642 - accuracy: 0.9763 - val_loss: 0.0688 - val_accuracy: 0.9474\n",
      "Epoch 9/30\n",
      "169/169 [==============================] - 2s 10ms/sample - loss: 0.0552 - accuracy: 0.9704 - val_loss: 0.3018 - val_accuracy: 0.9474\n",
      "Epoch 10/30\n",
      "169/169 [==============================] - 2s 10ms/sample - loss: 0.0620 - accuracy: 0.9822 - val_loss: 0.5160 - val_accuracy: 0.7368\n",
      "Epoch 11/30\n",
      "169/169 [==============================] - 2s 10ms/sample - loss: 0.0629 - accuracy: 0.9882 - val_loss: 0.0447 - val_accuracy: 1.0000\n",
      "Epoch 12/30\n",
      "169/169 [==============================] - 2s 10ms/sample - loss: 0.0500 - accuracy: 0.9763 - val_loss: 0.0853 - val_accuracy: 0.8947\n",
      "Epoch 13/30\n",
      "169/169 [==============================] - 2s 10ms/sample - loss: 0.0523 - accuracy: 0.9822 - val_loss: 0.3611 - val_accuracy: 0.7895\n",
      "Epoch 14/30\n",
      "169/169 [==============================] - 2s 10ms/sample - loss: 0.0577 - accuracy: 0.9882 - val_loss: 0.0502 - val_accuracy: 1.0000\n",
      "Epoch 15/30\n",
      "169/169 [==============================] - 2s 10ms/sample - loss: 0.0220 - accuracy: 0.9941 - val_loss: 0.0259 - val_accuracy: 1.0000\n",
      "Epoch 16/30\n",
      "169/169 [==============================] - 2s 10ms/sample - loss: 0.0068 - accuracy: 1.0000 - val_loss: 0.1452 - val_accuracy: 0.8947\n",
      "Epoch 17/30\n",
      "169/169 [==============================] - 2s 10ms/sample - loss: 0.0032 - accuracy: 1.0000 - val_loss: 0.0768 - val_accuracy: 0.9474\n",
      "Epoch 18/30\n",
      "169/169 [==============================] - 2s 10ms/sample - loss: 0.0011 - accuracy: 1.0000 - val_loss: 0.1241 - val_accuracy: 0.9474\n",
      "Epoch 19/30\n",
      "169/169 [==============================] - 2s 10ms/sample - loss: 7.8097e-04 - accuracy: 1.0000 - val_loss: 0.0931 - val_accuracy: 0.9474\n",
      "Epoch 20/30\n",
      "169/169 [==============================] - 2s 10ms/sample - loss: 4.2448e-04 - accuracy: 1.0000 - val_loss: 0.0820 - val_accuracy: 0.9474\n",
      "Epoch 21/30\n",
      "169/169 [==============================] - 2s 10ms/sample - loss: 3.5852e-04 - accuracy: 1.0000 - val_loss: 0.1038 - val_accuracy: 0.9474\n",
      "Epoch 22/30\n",
      "169/169 [==============================] - 2s 10ms/sample - loss: 2.7957e-04 - accuracy: 1.0000 - val_loss: 0.1136 - val_accuracy: 0.9474\n",
      "Epoch 23/30\n",
      "169/169 [==============================] - 2s 10ms/sample - loss: 2.4824e-04 - accuracy: 1.0000 - val_loss: 0.1208 - val_accuracy: 0.9474\n",
      "Epoch 24/30\n",
      "169/169 [==============================] - 2s 10ms/sample - loss: 2.1395e-04 - accuracy: 1.0000 - val_loss: 0.1210 - val_accuracy: 0.9474\n",
      "Epoch 25/30\n",
      "169/169 [==============================] - 2s 10ms/sample - loss: 1.7803e-04 - accuracy: 1.0000 - val_loss: 0.1146 - val_accuracy: 0.9474\n",
      "Epoch 26/30\n",
      "169/169 [==============================] - 2s 10ms/sample - loss: 1.5711e-04 - accuracy: 1.0000 - val_loss: 0.1056 - val_accuracy: 0.9474\n",
      "Epoch 27/30\n",
      "169/169 [==============================] - 2s 10ms/sample - loss: 1.5307e-04 - accuracy: 1.0000 - val_loss: 0.1046 - val_accuracy: 0.9474\n",
      "Epoch 28/30\n",
      "169/169 [==============================] - 2s 10ms/sample - loss: 1.4214e-04 - accuracy: 1.0000 - val_loss: 0.1076 - val_accuracy: 0.9474\n",
      "Epoch 29/30\n",
      "169/169 [==============================] - 2s 10ms/sample - loss: 1.2818e-04 - accuracy: 1.0000 - val_loss: 0.1187 - val_accuracy: 0.9474\n",
      "Epoch 30/30\n",
      "169/169 [==============================] - 2s 10ms/sample - loss: 1.1299e-04 - accuracy: 1.0000 - val_loss: 0.1280 - val_accuracy: 0.9474\n"
     ]
    },
    {
     "data": {
      "text/plain": [
       "<tensorflow.python.keras.callbacks.History at 0x2620f1b0748>"
      ]
     },
     "execution_count": 6,
     "metadata": {},
     "output_type": "execute_result"
    }
   ],
   "source": [
    "model.fit(x,y,batch_size = 32,epochs = 30,validation_split = 0.1)"
   ]
  },
  {
   "cell_type": "code",
   "execution_count": 7,
   "metadata": {},
   "outputs": [],
   "source": [
    "model.save('model.h5')"
   ]
  },
  {
   "cell_type": "code",
   "execution_count": null,
   "metadata": {},
   "outputs": [],
   "source": []
  }
 ],
 "metadata": {
  "kernelspec": {
   "display_name": "Python 3",
   "language": "python",
   "name": "python3"
  },
  "language_info": {
   "codemirror_mode": {
    "name": "ipython",
    "version": 3
   },
   "file_extension": ".py",
   "mimetype": "text/x-python",
   "name": "python",
   "nbconvert_exporter": "python",
   "pygments_lexer": "ipython3",
   "version": "3.7.9"
  }
 },
 "nbformat": 4,
 "nbformat_minor": 4
}
